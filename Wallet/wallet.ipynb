{
 "cells": [
  {
   "cell_type": "code",
   "execution_count": 25,
   "id": "343d502e-cc30-45bb-b5d6-36bb750988cb",
   "metadata": {},
   "outputs": [],
   "source": [
    "# Import dependencies\n",
    "\n",
    "import subprocess\n",
    "import json\n",
    "from dotenv import load_dotenv"
   ]
  },
  {
   "cell_type": "code",
   "execution_count": 26,
   "id": "1664eb07-5812-44f1-9454-16ab9d28b855",
   "metadata": {},
   "outputs": [
    {
     "name": "stdout",
     "output_type": "stream",
     "text": [
      "thought please play lawn camera sail warfare stock invest moral will render\n"
     ]
    }
   ],
   "source": [
    "# Load and set environment variables\n",
    "import os \n",
    "load_dotenv('ethereum.env')\n",
    "mnemonic=os.getenv(\"MNEMONIC_CODE\")\n",
    "#mnemonic ='thought please play lawn camera sail warfare stock invest moral will render'\n",
    "print(mnemonic)"
   ]
  },
  {
   "cell_type": "code",
   "execution_count": 27,
   "id": "ab396810-c7ed-41b0-af7b-b4c80f7da864",
   "metadata": {},
   "outputs": [],
   "source": [
    "# Import constants.py and necessary functions from bit and web3\n",
    "\n",
    "# YOUR CODE HERE\n",
    "from web3 import Web3\n",
    "from constants import *\n",
    "w3 = Web3(Web3.HTTPProvider(\"http://127.0.0.1:8545\"))\n",
    "from bip_utils import Bip32, Bip39SeedGenerator, Bip44, Bip44Coins, Bip44Changes\n",
    "from bit import Key, PrivateKey, PrivateKeyTestnet\n",
    "from bit.network import NetworkAPI\n",
    "from eth_account import Account\n",
    "from web3.middleware import geth_poa_middleware\n",
    "w3.middleware_onion.inject(geth_poa_middleware, layer=0)\n",
    "seed_bytes = Bip39SeedGenerator(mnemonic).Generate()\n",
    "seed_bytes"
   ]
  },
  {
   "cell_type": "code",
   "execution_count": 56,
   "id": "f6f7596f-c252-4660-9562-0224273b3b57",
   "metadata": {},
   "outputs": [
    {
     "ename": "NameError",
     "evalue": "name 'constants' is not defined",
     "output_type": "error",
     "traceback": [
      "\u001b[1;31m---------------------------------------------------------------------------\u001b[0m",
      "\u001b[1;31mNameError\u001b[0m                                 Traceback (most recent call last)",
      "\u001b[1;32m<ipython-input-56-68bccf0dc63f>\u001b[0m in \u001b[0;36m<module>\u001b[1;34m\u001b[0m\n\u001b[1;32m----> 1\u001b[1;33m \u001b[0mprint\u001b[0m\u001b[1;33m(\u001b[0m\u001b[0mconstants\u001b[0m\u001b[1;33m.\u001b[0m\u001b[0mETH\u001b[0m\u001b[1;33m)\u001b[0m\u001b[1;33m\u001b[0m\u001b[1;33m\u001b[0m\u001b[0m\n\u001b[0m",
      "\u001b[1;31mNameError\u001b[0m: name 'constants' is not defined"
     ]
    }
   ],
   "source": [
    "print(constants.ETH)"
   ]
  },
  {
   "cell_type": "markdown",
   "id": "977e2907-a081-410a-ac28-4667dda99e42",
   "metadata": {},
   "source": [
    "### Constant py file is properly declared here. But it's working once and other times not working. So I didn't use it.  "
   ]
  },
  {
   "cell_type": "code",
   "execution_count": 28,
   "id": "c7aa7686-a008-41b9-b107-bbe479d8ece6",
   "metadata": {},
   "outputs": [],
   "source": [
    "# Create a function called `derive_wallets`\n",
    "def derive_wallets(Mnemonic,Coin,Numderive):\n",
    "    \n",
    "    command = f'php derive -g --mnemonic=\"{Mnemonic}\" --numderive={Numderive} --coin={Coin} --format=json'\n",
    "    p = subprocess.Popen(command, stdout=subprocess.PIPE, shell=True)\n",
    "    output, err = p.communicate()\n",
    "    p_status = p.wait()\n",
    "    return json.loads(output)"
   ]
  },
  {
   "cell_type": "code",
   "execution_count": 29,
   "id": "3c9ca2f2-5137-43cf-9474-489854c9f7ce",
   "metadata": {},
   "outputs": [
    {
     "name": "stdout",
     "output_type": "stream",
     "text": [
      "{\n",
      "    \"btc-test\": [\n",
      "        {\n",
      "            \"address\": \"mzWcNgKXqVYoH4cyfhCRcDQ1Z7qT4zuoCw\",\n",
      "            \"index\": 0,\n",
      "            \"path\": \"m/44'/1'/0'/0/0\",\n",
      "            \"privkey\": \"cPvEcAengXtLB85U3v1tcnbMowHnXJP42rjUi8jEupFu14wqycrw\",\n",
      "            \"pubkey\": \"02065ff7669f39d9a574a3f54cf1851f155e204859b9c730671f5eb981bfb8302a\",\n",
      "            \"pubkeyhash\": \"d059c2e41d0315e73c11d32bdaf644f66c574566\",\n",
      "            \"xprv\": \"tprv8jEKaRS1uMC9wrEAgJCQdWECCohchQie3r5M91AG9oy9qnd6GyXeD92eCJiCCPWNdQAqezz6E1nvMK89zpLZiovu5tHMYkG4ewzXbm4uxRn\",\n",
      "            \"xpub\": \"tpubDFvMiqUG3ispqKFxZws12utJmqDYrjuYd9g8RXCZa5mYgGsruNMEPdeWNRBBzpgFYbmQ3539GEUa67iNeg2bs9L42mm7gXJMireTGBQQUcr\"\n",
      "        },\n",
      "        {\n",
      "            \"address\": \"mhdTvkoLWBGud1T9tvPVp9NVGXv7ewa8Hj\",\n",
      "            \"index\": 1,\n",
      "            \"path\": \"m/44'/1'/0'/0/1\",\n",
      "            \"privkey\": \"cRisjkg2m2PxXYWAfDAqfGMRGkxHisSeGjLGmae6Go5DJYwJT7fW\",\n",
      "            \"pubkey\": \"0226d85b6418f634003d1cc09f5afb7a4ba29df926a0d48c3fa546641feea677af\",\n",
      "            \"pubkeyhash\": \"172b7bc9c56d7acad8d68caef63fcd86aa4a79e0\",\n",
      "            \"xprv\": \"tprv8jEKaRS1uMC9ykDnz1X9KCEVtHmgh1sh9GNLpDMthZQwEDRpo6ohCKjTs39qs8nB9XNrqbs7dF73jQ1Nw6BZq7aZAd9BXTejrLs8FRWbVHD\",\n",
      "            \"xpub\": \"tpubDFvMiqUG3ispsDFasfBjibtcTKHcrM4biZy86jQC7qDL4hgbRVdHNpML39TS39v9NuGM9Mw1sSxXryXWaDjGMg6fQ9UBvwEiwnCtveXWTFT\"\n",
      "        },\n",
      "        {\n",
      "            \"address\": \"mxTNhCfimhhGA7t4ZuzkZhVukfZrkswGpY\",\n",
      "            \"index\": 2,\n",
      "            \"path\": \"m/44'/1'/0'/0/2\",\n",
      "            \"privkey\": \"cRw7mPbuKG662t5evnpma6BaiyVQc9sUuzgPcRtFQkAydhpM8aoE\",\n",
      "            \"pubkey\": \"02a7bebeee072ff766f30ce5241b920fe8b3aeb022f6012da69084e56000b250a4\",\n",
      "            \"pubkeyhash\": \"b9ccd781abaefe82b6cf3e9d394380e86f14ef25\",\n",
      "            \"xprv\": \"tprv8jEKaRS1uMCA3cLujs4i2ecBVeFxTRqizGDuLSF2E4ZQcaUiZqZgv2pA9H4proZRm9o9fNsCbavzZcnoSYVxeDCQtX7njvXUkaen1CotCka\",\n",
      "            \"xpub\": \"tpubDFvMiqUG3ispw5NhdWjJS4GJ4fmtcm2dZZpgcxHKeLMoT4jVCEPH6XS2KQJQk3CnCSLZFN51AX3gGYV5fhSiDMvRT5tyyvFtLMkwYC63iVL\"\n",
      "        }\n",
      "    ],\n",
      "    \"eth\": [\n",
      "        {\n",
      "            \"address\": \"0x376b0EA75632FdD4962fBf6d15179877db8c707c\",\n",
      "            \"index\": 0,\n",
      "            \"path\": \"m/44'/60'/0'/0/0\",\n",
      "            \"privkey\": \"0x2c4e8e410beb403143a0ef30fb72728c22c36114febac90651d992b025caf4ff\",\n",
      "            \"pubkey\": \"0226af871c58f9322fd0ad74d221964847a895336b43bb6cac55f95bd12382512b\",\n",
      "            \"pubkeyhash\": \"8ec520182058ffff4620dca19ea7caf354661b01\",\n",
      "            \"xprv\": \"xprvA49sicpeqVeBwxUnSGRHzvJaFKcrexGAb1chz2uRcwgTb5BDWWY2yg6P43DgeRhAXLZFPGm36F9aZvFSoFvrkJXFTGH4EnYCXdS5SCn1CQ2\",\n",
      "            \"xpub\": \"xpub6H9E88MYfsCVASZFYHxJN4FJoMTM4Qz1xEYJnRK3BHDSTsWN43rHXUQruJCyW5AdGH2vSncWAs2UvdfMEk5vVb4hBNtdXqxmKhiiWtFLLP7\"\n",
      "        },\n",
      "        {\n",
      "            \"address\": \"0x50f317823508E458870601Bd07a384E679e75cb7\",\n",
      "            \"index\": 1,\n",
      "            \"path\": \"m/44'/60'/0'/0/1\",\n",
      "            \"privkey\": \"0x04072fbc201bfb1a4ba9c5bb088bcac1e4f72151894147349e3259a2d2298527\",\n",
      "            \"pubkey\": \"02245ff073c63b7ddcc227fe6355f9dbc5673cf125197d34d41c892fb9631ba28e\",\n",
      "            \"pubkeyhash\": \"f1eeba560418d600037403ec675886c882841ca2\",\n",
      "            \"xprv\": \"xprvA49sicpeqVeC1jZZNxUYsWwXRcb9iqa8Sf7Kwdz7f2Du6isbgvQegJQEazoCp483LjLQD8GLxxzmTa65N5hePicftPbydEEtRLYNRydJ2rr\",\n",
      "            \"xpub\": \"xpub6H9E88MYfsCVEDe2Uz1ZEetFyeRe8JHyot2vk2PjDMksyXCkETiuE6iiSG5DWMahRysd72x3Be1dJ1jZEQvKWNNR8sZhFuj4wiWkXJDeoXK\"\n",
      "        },\n",
      "        {\n",
      "            \"address\": \"0x83F0735C9b94DFE06F8D2b0a3F1BD9620163Dbea\",\n",
      "            \"index\": 2,\n",
      "            \"path\": \"m/44'/60'/0'/0/2\",\n",
      "            \"privkey\": \"0x3961ff004727a0de54639c0280586b461a5097201bcfa2b45f8c864024473a6a\",\n",
      "            \"pubkey\": \"029429c991a8b56f6b010154e9d90c3f8b19dda8a009a81eb68b45c8b1094fd093\",\n",
      "            \"pubkeyhash\": \"0163dd096489d6111ab9660cd421de25d644ebdf\",\n",
      "            \"xprv\": \"xprvA49sicpeqVeC2UdTy34MjULb2W5VyrfX9oqy7W7ahbbLdjs5kzfD5XkdRCh44uiHdjvNjvEv1DXydrq5JK1mtRrGTNsDNDa3CFSMRxcvzYh\",\n",
      "            \"xpub\": \"xpub6H9E88MYfsCVExhw54bN6cHKaXuzPKPNX2mZutXCFw8KWYCEJXyTdL57GUQoNgUitSje7uS4pmtRTNmfrG42jjbXNJ8n9EHMaGU6Fo6Nih3\"\n",
      "        }\n",
      "    ]\n",
      "}\n"
     ]
    }
   ],
   "source": [
    "# Create a dictionary object called coins to store the output from `derive_wallets`.\n",
    "coins = {'eth':derive_wallets(Mnemonic=mnemonic,Coin=ETH,Numderive=3), \n",
    "  'btc-test': derive_wallets(Mnemonic=mnemonic,Coin=BTCTEST,Numderive=3)}\n",
    "\n",
    "print(json.dumps(coins, indent=4, sort_keys=True))"
   ]
  },
  {
   "cell_type": "code",
   "execution_count": 53,
   "id": "dd427b4c-3628-4647-a219-45db1f36a608",
   "metadata": {},
   "outputs": [],
   "source": [
    "# Create a function called `priv_key_to_account` that converts privkey strings to account objects.\n",
    "def priv_key_to_account(coin, priv_key):\n",
    "    # YOUR CODE HERE\n",
    "    global account \n",
    "    if coin == BTCTEST:\n",
    "        account=PrivateKeyTestnet(coins['btc-test'][0]['privkey'])\n",
    "        \n",
    "    if coin == ETH :\n",
    "        account=Account.privateKeyToAccount(coins['eth'][0]['privkey'])\n",
    "    return account"
   ]
  },
  {
   "cell_type": "code",
   "execution_count": 39,
   "id": "05ad7123-8e7b-465d-82a2-6b8de1abebe9",
   "metadata": {},
   "outputs": [],
   "source": [
    "# Create a function called `create_tx` that creates an unsigned transaction appropriate metadata.\n",
    "def create_tx(coin,account,recipient,amount):\n",
    "    # YOUR CODE HERE\n",
    "\n",
    "    global tx_data\n",
    "    if coin ==ETH:\n",
    "        gasEstimate = w3.eth.estimateGas(\n",
    "            {\"from\": account.address, \"to\": recipient, \"value\": amount}\n",
    "        )\n",
    "        tx_data= {\n",
    "            \"from\": account.address,\n",
    "            \"to\": recipient,\n",
    "            \"value\": amount,\n",
    "            \"gasPrice\":w3.eth.gasPrice,\n",
    "            \"gas\": gasEstimate,\n",
    "            \"nonce\": w3.eth.getTransactionCount(account.address),\n",
    "        }\n",
    "        return tx_data\n",
    "    else:\n",
    "        tx_data = PrivateKeyTestnet.prepare_transaction(account.address, [(recipient, amount, BTC)])\n",
    "        return tx_data"
   ]
  },
  {
   "cell_type": "code",
   "execution_count": 40,
   "id": "63366ab4-3c6f-4f81-87d2-89dc22c340a1",
   "metadata": {},
   "outputs": [],
   "source": [
    "# Create a function called `send_tx` that calls `create_tx`, signs and sends the transaction.\n",
    "\n",
    "def send_tx(coin, account, recipient, amount):\n",
    "    if coin == ETH:\n",
    "        tx = create_tx(coin,account, recipient, amount)\n",
    "        signed_tx = account.sign_transaction(tx)\n",
    "        result = w3.eth.sendRawTransaction(signed_tx.rawTransaction)\n",
    "        print(result.hex())\n",
    "        return result.hex()\n",
    "    else:\n",
    "        tx_data = create_tx(coin,account,recipient,amount)\n",
    "        signed = account.sign_transaction(tx_data)\n",
    "        NetworkAPI.broadcast_tx_testnet(signed)\n",
    "        return signed\n",
    "    "
   ]
  },
  {
   "cell_type": "code",
   "execution_count": 36,
   "id": "be9764fc-0330-4aed-b76e-192f4feadab9",
   "metadata": {},
   "outputs": [
    {
     "data": {
      "text/plain": [
       "'{\"unspents\":[{\"amount\":552,\"confirmations\":38,\"script\":\"76a914d059c2e41d0315e73c11d32bdaf644f66c57456688ac\",\"txid\":\"8bbb66cd7bbe76fec63122ffd1e1cd42447e159ba0c58f1b0c61152c7c448397\",\"txindex\":1,\"type\":\"p2pkh\",\"vsize\":148,\"segwit\":false,\"sequence\":4294967295},{\"amount\":1239032,\"confirmations\":1,\"script\":\"76a914d059c2e41d0315e73c11d32bdaf644f66c57456688ac\",\"txid\":\"1089494f578462731b5081e0337b7eb0be3c46a6afc45808178a30313c1d2395\",\"txindex\":1,\"type\":\"p2pkh\",\"vsize\":148,\"segwit\":false,\"sequence\":4294967295},{\"amount\":100,\"confirmations\":38,\"script\":\"76a914d059c2e41d0315e73c11d32bdaf644f66c57456688ac\",\"txid\":\"8bbb66cd7bbe76fec63122ffd1e1cd42447e159ba0c58f1b0c61152c7c448397\",\"txindex\":0,\"type\":\"p2pkh\",\"vsize\":148,\"segwit\":false,\"sequence\":4294967295},{\"amount\":100000,\"confirmations\":0,\"script\":\"76a914d059c2e41d0315e73c11d32bdaf644f66c57456688ac\",\"txid\":\"097468c3ab25e328fc21ee5868a26021057ac3430700a07cb0be07a2d1843b8b\",\"txindex\":0,\"type\":\"p2pkh\",\"vsize\":148,\"segwit\":false,\"sequence\":4294967295}],\"outputs\":[[\"mxTNhCfimhhGA7t4ZuzkZhVukfZrkswGpY\",0],[\"mzWcNgKXqVYoH4cyfhCRcDQ1Z7qT4zuoCw\",1271344]]}'"
      ]
     },
     "execution_count": 36,
     "metadata": {},
     "output_type": "execute_result"
    }
   ],
   "source": [
    "create_tx(BTCTEST,account,'mxTNhCfimhhGA7t4ZuzkZhVukfZrkswGpY',0.0000000000001)"
   ]
  },
  {
   "cell_type": "code",
   "execution_count": 37,
   "id": "eebda635-5f65-4ccd-9fbd-5cda83cba058",
   "metadata": {},
   "outputs": [
    {
     "data": {
      "text/plain": [
       "'010000000495231d3c31308a170858c4afa6463cbeb07e7b33e081501b736284574f498910010000006b483045022100a588162944073fca82178a606386620e2e6dc9e3c74a12d1aaddd4c6fa229a190220438ff28a58bfafcf99c78bdeb0f0cedea50813bd9a65ccf8058db596e429745d012102065ff7669f39d9a574a3f54cf1851f155e204859b9c730671f5eb981bfb8302affffffff9783447c2c15610c1b8fc5a09b157e4442cde1d1ff2231c6fe76be7bcd66bb8b000000006b483045022100d416e8fb4fc45b7caa728628706e51caf23ac3dd7d9729bc38f5c9994bcba10c02203903c7fc1efc514bc6bd8e5391a2e51d29458ac7e3d334eb6dbe76a557d1b2a4012102065ff7669f39d9a574a3f54cf1851f155e204859b9c730671f5eb981bfb8302affffffff9783447c2c15610c1b8fc5a09b157e4442cde1d1ff2231c6fe76be7bcd66bb8b010000006a47304402201b84f96a418bccc1d75c919a0624fc9b155d8648fc8f56560f922b6000a55a8f02205cc588f253c30eb49584bf3805a4336259c497369fbac20ae43ef7e11e1d1f5e012102065ff7669f39d9a574a3f54cf1851f155e204859b9c730671f5eb981bfb8302affffffff8b3b84d1a207beb07ca0000743c37a052160a26858ee21fc28e325abc3687409000000006b483045022100e3d83733853c16031471189e9b378963ee4265ab7e439d3b295a9c7300d2c1600220303fa6ac16df685c44ad670dc553498d38bb2fefb3a786c0d865f54c1d41aed3012102065ff7669f39d9a574a3f54cf1851f155e204859b9c730671f5eb981bfb8302affffffff0264000000000000001976a914d059c2e41d0315e73c11d32bdaf644f66c57456688accc651300000000001976a914d059c2e41d0315e73c11d32bdaf644f66c57456688ac00000000'"
      ]
     },
     "execution_count": 37,
     "metadata": {},
     "output_type": "execute_result"
    }
   ],
   "source": [
    "send_tx(BTCTEST,account,'mzWcNgKXqVYoH4cyfhCRcDQ1Z7qT4zuoCw',0.000001)"
   ]
  },
  {
   "cell_type": "code",
   "execution_count": 41,
   "id": "052e91e4-a449-40e1-b7b8-896ce3759bcc",
   "metadata": {},
   "outputs": [
    {
     "name": "stdout",
     "output_type": "stream",
     "text": [
      "904625697166532776746648320380374280103671755200316906558262375061821325312\n",
      "904625697166532776746648320380374280103671755200316906558262375061821325312\n"
     ]
    }
   ],
   "source": [
    "\n",
    "balance1= w3.eth.getBalance(\"0x376b0EA75632FdD4962fBf6d15179877db8c707c\")\n",
    "balance2= w3.eth.getBalance(\"0x50f317823508E458870601Bd07a384E679e75cb7\")\n",
    "\n",
    "print(balance1)\n",
    "print(balance2)"
   ]
  },
  {
   "cell_type": "code",
   "execution_count": 59,
   "id": "fc144570-3a4d-433f-a119-f1ad33242b4c",
   "metadata": {},
   "outputs": [
    {
     "name": "stdout",
     "output_type": "stream",
     "text": [
      "0x376b0EA75632FdD4962fBf6d15179877db8c707c\n"
     ]
    },
    {
     "data": {
      "text/plain": [
       "{'from': '0x376b0EA75632FdD4962fBf6d15179877db8c707c',\n",
       " 'to': '0x376b0EA75632FdD4962fBf6d15179877db8c707c',\n",
       " 'value': 104625697166532776746648320380374280103671755200316906558262375061821325312,\n",
       " 'gasPrice': 1000000000,\n",
       " 'gas': 21000,\n",
       " 'nonce': 0}"
      ]
     },
     "execution_count": 59,
     "metadata": {},
     "output_type": "execute_result"
    }
   ],
   "source": [
    "print(account.address) \n",
    "create_tx(ETH,account,\"0x376b0EA75632FdD4962fBf6d15179877db8c707c\",104625697166532776746648320380374280103671755200316906558262375061821325312)\n"
   ]
  },
  {
   "cell_type": "code",
   "execution_count": 60,
   "id": "c2bcc523-e33d-4a2b-9710-37a76a6e0dfb",
   "metadata": {},
   "outputs": [
    {
     "ename": "ValueError",
     "evalue": "{'code': -32000, 'message': 'replacement transaction underpriced'}",
     "output_type": "error",
     "traceback": [
      "\u001b[1;31m---------------------------------------------------------------------------\u001b[0m",
      "\u001b[1;31mValueError\u001b[0m                                Traceback (most recent call last)",
      "\u001b[1;32m<ipython-input-60-9c6adcf5a361>\u001b[0m in \u001b[0;36m<module>\u001b[1;34m\u001b[0m\n\u001b[1;32m----> 1\u001b[1;33m \u001b[0msend_tx\u001b[0m\u001b[1;33m(\u001b[0m\u001b[0mETH\u001b[0m\u001b[1;33m,\u001b[0m\u001b[0maccount\u001b[0m\u001b[1;33m,\u001b[0m\u001b[1;34m'0x376b0EA75632FdD4962fBf6d15179877db8c707c'\u001b[0m\u001b[1;33m,\u001b[0m \u001b[1;36m104625697166532776746648320380374280103671755200316906558262375061821325312\u001b[0m\u001b[1;33m)\u001b[0m\u001b[1;33m\u001b[0m\u001b[1;33m\u001b[0m\u001b[0m\n\u001b[0m",
      "\u001b[1;32m<ipython-input-40-ccb69ef721bc>\u001b[0m in \u001b[0;36msend_tx\u001b[1;34m(coin, account, recipient, amount)\u001b[0m\n\u001b[0;32m      5\u001b[0m         \u001b[0mtx\u001b[0m \u001b[1;33m=\u001b[0m \u001b[0mcreate_tx\u001b[0m\u001b[1;33m(\u001b[0m\u001b[0mcoin\u001b[0m\u001b[1;33m,\u001b[0m\u001b[0maccount\u001b[0m\u001b[1;33m,\u001b[0m \u001b[0mrecipient\u001b[0m\u001b[1;33m,\u001b[0m \u001b[0mamount\u001b[0m\u001b[1;33m)\u001b[0m\u001b[1;33m\u001b[0m\u001b[1;33m\u001b[0m\u001b[0m\n\u001b[0;32m      6\u001b[0m         \u001b[0msigned_tx\u001b[0m \u001b[1;33m=\u001b[0m \u001b[0maccount\u001b[0m\u001b[1;33m.\u001b[0m\u001b[0msign_transaction\u001b[0m\u001b[1;33m(\u001b[0m\u001b[0mtx\u001b[0m\u001b[1;33m)\u001b[0m\u001b[1;33m\u001b[0m\u001b[1;33m\u001b[0m\u001b[0m\n\u001b[1;32m----> 7\u001b[1;33m         \u001b[0mresult\u001b[0m \u001b[1;33m=\u001b[0m \u001b[0mw3\u001b[0m\u001b[1;33m.\u001b[0m\u001b[0meth\u001b[0m\u001b[1;33m.\u001b[0m\u001b[0msendRawTransaction\u001b[0m\u001b[1;33m(\u001b[0m\u001b[0msigned_tx\u001b[0m\u001b[1;33m.\u001b[0m\u001b[0mrawTransaction\u001b[0m\u001b[1;33m)\u001b[0m\u001b[1;33m\u001b[0m\u001b[1;33m\u001b[0m\u001b[0m\n\u001b[0m\u001b[0;32m      8\u001b[0m         \u001b[0mprint\u001b[0m\u001b[1;33m(\u001b[0m\u001b[0mresult\u001b[0m\u001b[1;33m.\u001b[0m\u001b[0mhex\u001b[0m\u001b[1;33m(\u001b[0m\u001b[1;33m)\u001b[0m\u001b[1;33m)\u001b[0m\u001b[1;33m\u001b[0m\u001b[1;33m\u001b[0m\u001b[0m\n\u001b[0;32m      9\u001b[0m         \u001b[1;32mreturn\u001b[0m \u001b[0mresult\u001b[0m\u001b[1;33m.\u001b[0m\u001b[0mhex\u001b[0m\u001b[1;33m(\u001b[0m\u001b[1;33m)\u001b[0m\u001b[1;33m\u001b[0m\u001b[1;33m\u001b[0m\u001b[0m\n",
      "\u001b[1;32m~\\anaconda3\\envs\\ethereum\\lib\\site-packages\\web3\\module.py\u001b[0m in \u001b[0;36mcaller\u001b[1;34m(*args, **kwargs)\u001b[0m\n\u001b[0;32m     58\u001b[0m                                              \u001b[0mparams\u001b[0m\u001b[1;33m,\u001b[0m\u001b[1;33m\u001b[0m\u001b[1;33m\u001b[0m\u001b[0m\n\u001b[0;32m     59\u001b[0m                                              \u001b[0merror_formatters\u001b[0m\u001b[1;33m,\u001b[0m\u001b[1;33m\u001b[0m\u001b[1;33m\u001b[0m\u001b[0m\n\u001b[1;32m---> 60\u001b[1;33m                                              null_result_formatters)\n\u001b[0m\u001b[0;32m     61\u001b[0m         \u001b[1;32mreturn\u001b[0m \u001b[0mapply_result_formatters\u001b[0m\u001b[1;33m(\u001b[0m\u001b[0mresult_formatters\u001b[0m\u001b[1;33m,\u001b[0m \u001b[0mresult\u001b[0m\u001b[1;33m)\u001b[0m\u001b[1;33m\u001b[0m\u001b[1;33m\u001b[0m\u001b[0m\n\u001b[0;32m     62\u001b[0m     \u001b[1;32mreturn\u001b[0m \u001b[0mcaller\u001b[0m\u001b[1;33m\u001b[0m\u001b[1;33m\u001b[0m\u001b[0m\n",
      "\u001b[1;32m~\\anaconda3\\envs\\ethereum\\lib\\site-packages\\web3\\manager.py\u001b[0m in \u001b[0;36mrequest_blocking\u001b[1;34m(self, method, params, error_formatters, null_result_formatters)\u001b[0m\n\u001b[0;32m    182\u001b[0m                                        \u001b[0mparams\u001b[0m\u001b[1;33m,\u001b[0m\u001b[1;33m\u001b[0m\u001b[1;33m\u001b[0m\u001b[0m\n\u001b[0;32m    183\u001b[0m                                        \u001b[0merror_formatters\u001b[0m\u001b[1;33m,\u001b[0m\u001b[1;33m\u001b[0m\u001b[1;33m\u001b[0m\u001b[0m\n\u001b[1;32m--> 184\u001b[1;33m                                        null_result_formatters)\n\u001b[0m\u001b[0;32m    185\u001b[0m \u001b[1;33m\u001b[0m\u001b[0m\n\u001b[0;32m    186\u001b[0m     async def coro_request(\n",
      "\u001b[1;32m~\\anaconda3\\envs\\ethereum\\lib\\site-packages\\web3\\manager.py\u001b[0m in \u001b[0;36mformatted_response\u001b[1;34m(self, response, params, error_formatters, null_result_formatters)\u001b[0m\n\u001b[0;32m    160\u001b[0m         \u001b[1;32mif\u001b[0m \u001b[1;34m\"error\"\u001b[0m \u001b[1;32min\u001b[0m \u001b[0mresponse\u001b[0m\u001b[1;33m:\u001b[0m\u001b[1;33m\u001b[0m\u001b[1;33m\u001b[0m\u001b[0m\n\u001b[0;32m    161\u001b[0m             \u001b[0mapply_error_formatters\u001b[0m\u001b[1;33m(\u001b[0m\u001b[0merror_formatters\u001b[0m\u001b[1;33m,\u001b[0m \u001b[0mresponse\u001b[0m\u001b[1;33m)\u001b[0m\u001b[1;33m\u001b[0m\u001b[1;33m\u001b[0m\u001b[0m\n\u001b[1;32m--> 162\u001b[1;33m             \u001b[1;32mraise\u001b[0m \u001b[0mValueError\u001b[0m\u001b[1;33m(\u001b[0m\u001b[0mresponse\u001b[0m\u001b[1;33m[\u001b[0m\u001b[1;34m\"error\"\u001b[0m\u001b[1;33m]\u001b[0m\u001b[1;33m)\u001b[0m\u001b[1;33m\u001b[0m\u001b[1;33m\u001b[0m\u001b[0m\n\u001b[0m\u001b[0;32m    163\u001b[0m         \u001b[1;32melif\u001b[0m \u001b[0mresponse\u001b[0m\u001b[1;33m[\u001b[0m\u001b[1;34m'result'\u001b[0m\u001b[1;33m]\u001b[0m \u001b[1;32mis\u001b[0m \u001b[1;32mNone\u001b[0m\u001b[1;33m:\u001b[0m\u001b[1;33m\u001b[0m\u001b[1;33m\u001b[0m\u001b[0m\n\u001b[0;32m    164\u001b[0m             \u001b[1;31m# null_result_formatters raise either a BlockNotFound\u001b[0m\u001b[1;33m\u001b[0m\u001b[1;33m\u001b[0m\u001b[1;33m\u001b[0m\u001b[0m\n",
      "\u001b[1;31mValueError\u001b[0m: {'code': -32000, 'message': 'replacement transaction underpriced'}"
     ]
    }
   ],
   "source": [
    "send_tx(ETH,account,'0x376b0EA75632FdD4962fBf6d15179877db8c707c', 104625697166532776746648320380374280103671755200316906558262375061821325312)"
   ]
  },
  {
   "cell_type": "code",
   "execution_count": null,
   "id": "b198b641-db5b-49ed-b351-a1fbbb95a8df",
   "metadata": {},
   "outputs": [],
   "source": []
  },
  {
   "cell_type": "markdown",
   "id": "8193db76-7104-4cb7-be70-a233f1e21724",
   "metadata": {},
   "source": []
  }
 ],
 "metadata": {
  "kernelspec": {
   "display_name": "Python 3",
   "language": "python",
   "name": "python3"
  },
  "language_info": {
   "codemirror_mode": {
    "name": "ipython",
    "version": 3
   },
   "file_extension": ".py",
   "mimetype": "text/x-python",
   "name": "python",
   "nbconvert_exporter": "python",
   "pygments_lexer": "ipython3",
   "version": "3.8.10"
  }
 },
 "nbformat": 4,
 "nbformat_minor": 5
}
