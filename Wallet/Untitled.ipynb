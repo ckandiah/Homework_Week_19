{
 "cells": [
  {
   "cell_type": "code",
   "execution_count": 1,
   "id": "18d1c78d-95cf-4643-9d2b-1298d688db0e",
   "metadata": {},
   "outputs": [
    {
     "name": "stdout",
     "output_type": "stream",
     "text": [
      "thought please play lawn camera sail warfare stock invest moral will render\n",
      "904625697166532776746648320380374280103671755200316906558262375061821325312\n",
      "904625697166532776746648320380374280103671755200316906558262375061821325312\n"
     ]
    }
   ],
   "source": [
    "import os\n",
    "from web3 import Web3\n",
    "from dotenv import load_dotenv\n",
    "\n",
    "load_dotenv('ethereum.env')\n",
    "mneomonic = os.getenv(\"MNEMONIC_CODE\")\n",
    "print (mneomonic)\n",
    "\n",
    "w3 = Web3(Web3.HTTPProvider(\"http://127.0.0.1:8545\"))\n",
    "\n",
    "balance1= w3.eth.getBalance(\"0x376b0EA75632FdD4962fBf6d15179877db8c707c\")\n",
    "balance2= w3.eth.getBalance(\"0x50f317823508E458870601Bd07a384E679e75cb7\")\n",
    "\n",
    "\n",
    "print(balance1)\n",
    "print(balance2)"
   ]
  },
  {
   "cell_type": "code",
   "execution_count": null,
   "id": "e750eb78-c304-4f64-a869-e71da1db7c34",
   "metadata": {},
   "outputs": [],
   "source": []
  },
  {
   "cell_type": "code",
   "execution_count": null,
   "id": "e71f761c-899a-4aed-89d8-6ab9171ccabf",
   "metadata": {},
   "outputs": [],
   "source": []
  }
 ],
 "metadata": {
  "kernelspec": {
   "display_name": "Python 3",
   "language": "python",
   "name": "python3"
  },
  "language_info": {
   "codemirror_mode": {
    "name": "ipython",
    "version": 3
   },
   "file_extension": ".py",
   "mimetype": "text/x-python",
   "name": "python",
   "nbconvert_exporter": "python",
   "pygments_lexer": "ipython3",
   "version": "3.7.10"
  }
 },
 "nbformat": 4,
 "nbformat_minor": 5
}
